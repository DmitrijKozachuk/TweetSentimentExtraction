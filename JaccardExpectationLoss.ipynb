{
 "cells": [
  {
   "cell_type": "markdown",
   "metadata": {},
   "source": [
    "# Abstract\n",
    "\n",
    "Some days ago **Y. O.** present a post about new approach for Tween Segment Extraction (TSE) : https://www.kaggle.com/c/tweet-sentiment-extraction/discussion/142125. The was intresting idea about using Jaccard metric not only as metric, but as loss too: https://www.kaggle.com/c/tweet-sentiment-extraction/discussion/142125#820299. Using Jaccard as loss seems really attractive for me, cause it allows to prevent loss-metric bias (for instance, using BCE only has some disadvantages, explained in next sections). But this idea works only in case of segment prediction (one label \"00111100\" instead of start_label \"00100000\" and end label \"00000100\"), and even in this case we have a problem with continuity property: how to determine predicted segment from arbitrary prediction?<br>\n",
    "   <br>\n",
    "    In this notebooks i present two new losses, that seems to be usefull in TSE task:\n",
    "   - **W**eighted **BCE** (**WBCE**): BCE with taking into account order of items in prediction\n",
    "   - **J**accard **E**xpectation **L**oss (**JEL**): Using Jaccard metric as loss in \"traditional\" task formulations with two heads for start and end of text span prediction (with some trick, that i also explain below)\n",
    "   \n",
    "Hope you're enjoyng mathematical proofs and improve your results with one of this losses.\n",
    "\n",
    "**Assumption**: In my opinion, we have strange behavior with competition Jaccard metric, cause of using set() in computation. It means, that, for instance:\n",
    "\n",
    "$$Jaccard(i \\text{ } am \\text{ } data \\text{ } scientist) = Jaccard(data \\text{ } i \\text{ } scientist \\text{ } am) = 1$$\n",
    "\n",
    "It looks strange, but that happends rare, cause of $text$ and $selected\\_text$ are ordered simbol sequence from the same corpora. So, lets take into account simbol orders:\n",
    "<br><br>\n",
    "$$\n",
    "Jaccard(i \\text{ } am \\text{ } data \\text{ } scientist) = Jaccard(data \\text{ } i \\text{ } scientist \\text{ } am) = 0\n",
    "$$\n",
    "$$\n",
    "Jaccard(i \\text{ } am \\text{ } data \\text{ } scientist) = Jaccard(i \\text{ } am \\text{ } scientist \\text{ } data) = 0.5\n",
    "$$\n",
    "$$\n",
    "Jaccard(i \\text{ } am \\text{ } data \\text{ } scientist) = Jaccard(i \\text{ } data \\text{ } scientist \\text{ } am) = 0.25\n",
    "$$\n",
    "\n",
    "This score, i think, have very high correlation with competition Jaccard score, but make our discussion easier."
   ]
  },
  {
   "cell_type": "markdown",
   "metadata": {},
   "source": [
    "# Why BCE can works wrong?\n",
    "\n",
    "Lets consider some of disadvantages of BCE in TSE task.\n",
    "\n",
    "## Penalty untill ideal prediction\n",
    "\n",
    "That's what i mean: if at some stage of SGD we have prediction like this\n",
    "    - true: [0  , 0  , 1  , 0  , 0  , 0  ] (start label or end label)\n",
    "    - pred: [0.1, 0.1, 0.4, 0.1, 0.2, 0.1]\n",
    "then this prediction is alredy fine, but obviously $BCE(true, pred) \\neq 0$. Moreover, $BCE(true, pred^*) \\neq 0$ for each $pred^* \\neq true$, that seems way too unnesesarily penalty. It will be good to find some loss $L$, that can get $L(true, pred) \\approx 0$ for this example.\n",
    "\n",
    "##  Order Independence\n",
    "\n",
    "That's in my opinion more important disadvantage. Examples again:\n",
    "    - true : [0  , 0  , 1  , 0  , 0  , 0  ]\n",
    "    - pred1: [0. , 0. , 0.1, 0. , 0. , 0.9]\n",
    "    - pred2: [0. , 0. , 0.1, 0. , 0.9, 0. ]\n",
    "    - pred3: [0. , 0. , 0.1, 0.9, 0. , 0. ]\n",
    "    \n",
    "Because of index order independence of $BCE$, we get $BCE(true, pred_1) = BCE(true, pred_2) = BCE(true, pred_3)$. But obviously $pred_3$ is the best prediction, cause corresponding Jaccard score is higher then for another predictions. That's bad cause of two reasons:\n",
    "\n",
    "- BCE loss don't repeat Jaccard score behavior\n",
    "- This bad BCE property can create some area in model parameters space with constant loss, therefore with null gradient. It means, that in this space there was a lot of local minima (or maxima, or saddle point), that will stop your SGD optimization.\n",
    "\n",
    "##  Weighted BCE\n",
    "\n",
    "That's a WBCE comes out time. Lets just spread some potential from true label for making $pred_3$ prediction the best:\n",
    "\n",
    "    - true      : [0  , 0  , 1, 0  , 0  , 0  ]\n",
    "    - potential : [0.2, 0.1, 0, 0.1, 0.2, 0.3]\n",
    "    \n",
    "and then just weigh BCE vector by this potential vector. We also can tune potential construction:\n",
    "- different potential factor (0.1 in example - we also can multyply by 0.1 instead of adding)\n",
    "- biased potential (in example we can try to penalize left errors tougher, then right ones or vice versa)\n",
    "\n",
    "for getting closer to Jaccard score behavior. But apparenly even optimized WBCE loss will have some fundamental difference from Jaccard score that never vanish."
   ]
  },
  {
   "cell_type": "markdown",
   "metadata": {},
   "source": [
    "# Jaccard Expectation Loss\n",
    "\n",
    "## Denotes\n",
    "\n",
    "Now i introduce JEL. Lets say we consider one sample and try to predict start and end indexes of text span. Also introduce some natural notation:\n",
    "- $start\\_pred$, $end\\_pred$ - text span start/end prediction vectors\n",
    "- $start$, $end$ - start/end true one-encoding vectors\n",
    "- $x_{start}$, $x_{end}$ - inex of 1 in true start/end vectors\n",
    "- $l = length([x_{start}, x_{end}]) = x_{end} - x_{start} + 1 > 0$ - length of true text span\n",
    "\n",
    "(+1, cause in terns of this competition, length of segement with $x\\_start=x\\_end$ equals 1)\n",
    "\n",
    "That OK with four argument dependences for JEL: $$JEL=JEL(start, end, start\\_pred, end\\_pred)$$ cause \n",
    "- $[start\\_pred, end\\_pred]$ - model output\n",
    "- $[start, end]$ - true label we can prepare.\n",
    "\n",
    "Example for understanding:\n",
    "    - start     : [0  , 1  , 0  , 0  , 0  , 0  ] (x_start = 1)\n",
    "    - end       : [0  , 0  , 0  , 0  , 1  , 0  ] (x_end = 4)\n",
    "    - start_pred: [0.1, 0.4, 0.2, 0.1, 0. , 0. ]\n",
    "    - end_pred  : [0. , 0. , 0.1, 0. , 0.6, 0.2]\n",
    "    - indexes   : [0  , 1  , 2  , 3  , 4  , 5  ]\n",
    "    \n",
    "## Why Expectation?\n",
    "\n",
    "First problem : we want to get prediction $x_{start}^*$, $x_{end}^*$ for $x_{start}$, $x_{end}$ with vectors $start\\_pred$ and $end\\_pred$ in way like that\n",
    "\n",
    "$$x_{start}^* = argmax(start\\_pred)$$\n",
    "$$x_{end}^* = argmax(end\\_pred)$$\n",
    "\n",
    "for getting JEL counting more clear, but $argmax(\\cdot)$ function don't differentiable. But insead of tough $argmax(\\cdot)$ function we can use methematical expectation:\n",
    "\n",
    "$$x_{start}^* = E(x_{start}|start\\_pred) = <start\\_pred, indexes>$$\n",
    "$$x_{end}^* = E(x_{end}|end\\_pred) = <end\\_pred, indexes>$$\n",
    "\n",
    "($indexes$ just a range from 0 till MAX_LEN). Dot product with constant vecor is differentiable, so problem is solved. Some observation:\n",
    "- For prevent training-inference bias we have to use similar approach for getting prediction from probability vector at inference time.\n",
    "- If $start\\_pred$ or $end\\_pred$ near to delta-function (one item equal 1, other equal 0), then expectation equals argmax function. At first glance that's the case of most samples of  $start\\_pred$ or $end\\_pred$ in practice.\n",
    "\n",
    "Now it ehough to find JEL function with next dependences:\n",
    "$$JEL=JEL(x_{start}, x_{end}, x_{start}^*, x_{end}^*)$$\n",
    "\n"
   ]
  },
  {
   "cell_type": "markdown",
   "metadata": {},
   "source": [
    "## Major Theory\n",
    "\n",
    "At this section we will try transform Jaccard score fucntion:\n",
    "$$Jaccard = \\frac{length(Intersection)}{length(Union)}$$\n",
    "\n",
    "as a differentiable loss with as similar behavior as possible. So, our aim is to get some differentiable function $Jaccard^*$:\n",
    "\n",
    "$$Jaccard^* \\approx Jaccard$$\n",
    "\n",
    "and then denote $JEL = 1 - Jaccard^*$ and use this loss for model fitting."
   ]
  },
  {
   "cell_type": "markdown",
   "metadata": {},
   "source": [
    "### Case $x_{start}^* \\leq x_{end}^*$.\n",
    "\n",
    "#### Subcase $[x_{start}, x_{end}] \\cap [x_{start}^*, x_{end}^*] \\neq \\varnothing  $.\n",
    "\n",
    "Case images for better understanding:"
   ]
  },
  {
   "cell_type": "code",
   "execution_count": 1,
   "metadata": {},
   "outputs": [
    {
     "data": {
      "image/png": "[encoded data removed]",
      "text/plain": [
       "<PIL.JpegImagePlugin.JpegImageFile image mode=RGB size=501x430 at 0x7F291461C1D0>"
      ]
     },
     "execution_count": 1,
     "metadata": {},
     "output_type": "execute_result"
    }
   ],
   "source": [
    "from PIL import Image\n",
    "Image.open('./Case1.jpg')"
   ]
  },
  {
   "cell_type": "markdown",
   "metadata": {},
   "source": [
    "In this case $Union$ and $Intersection$ for Jaccard score is a segments (as opposed to the case $[x_{start}, x_{end}] \\cap [x_{start}^*, x_{end}^*] = \\varnothing $, when union is a tuple of segments). So, formula in terms of current denotes absolutely clear:\n",
    "\n",
    "$$length(Intersection) = min(x_{end}, x^*_{end}) - max(x_{start}, x^*_{start}) + 1$$\n",
    "$$length(Union) = max(x_{end}, x^*_{end}) - min(x_{start}, x^*_{start}) + 1$$\n",
    "\n",
    "except the fact, that $max(\\cdot)$ and $min(\\cdot)$ functions don't differentiable and therefore we cannot use it. But we can use next trick for achieve differentiability:\n",
    "\n",
    "$$max(a, b) = a + Relu(b - a)$$\n",
    "$$min(a, b) = a - Relu(a - b)$$\n",
    "\n",
    "This trick helps to make Jaccard score differentiable too:\n",
    "\n",
    "$$\n",
    "Jaccard\n",
    "= \\frac{length(Intersection)}{length(Union)}\n",
    "= \\frac{min(x_{end}, x^*_{end}) - max(x_{start}, x^*_{start}) + 1}\n",
    "       {max(x_{end}, x^*_{end}) - min(x_{start}, x^*_{start}) + 1}\n",
    "= \\frac{[x_{end} - Relu(x_{end} - x^*_{end})] - [x_{start} + Relu(x^*_{start} - x_{start})] + 1}\n",
    "       {[x_{end} + Relu(x^*_{end} - x_{end})] - [x_{start} - Relu(x_{start} - x^*_{start})] + 1}\n",
    "$$\n",
    "\n",
    "With $l = x_{end} - x_{start} + 1$ we get:\n",
    "\n",
    "$$\n",
    "Jaccard^*\n",
    "= \\frac{l - Relu(x_{start}^* - x_{start}  ) - Relu(x_{end}   - x_{end}^*)}\n",
    "       {l + Relu(x_{start}   - x_{start}^*) + Relu(x_{end}^* - x_{end})}. \n",
    "$$"
   ]
  },
  {
   "cell_type": "markdown",
   "metadata": {},
   "source": [
    "#### Subcase $[x_{start}, x_{end}] \\cap [x_{start}^*, x_{end}^*] = \\varnothing  $.\n",
    "\n",
    "There is only two cases (now $Union$ of segments has two different segements):"
   ]
  },
  {
   "cell_type": "code",
   "execution_count": 2,
   "metadata": {},
   "outputs": [
    {
     "data": {
      "image/png": "[encoded data removed]",
      "text/plain": [
       "<PIL.JpegImagePlugin.JpegImageFile image mode=RGB size=501x196 at 0x7F291403C6A0>"
      ]
     },
     "execution_count": 2,
     "metadata": {},
     "output_type": "execute_result"
    }
   ],
   "source": [
    "Image.open('./Case2.jpg')"
   ]
  },
  {
   "cell_type": "markdown",
   "metadata": {},
   "source": [
    "Now $Union$ of segments has two different segements, separate with some gap with length $\\xi > 0$. <br>\n",
    "<br>\n",
    "Lets consider case $x^*_{start} \\leq x^*_{end} \\leq x_{start} \\leq x_{end}$. In this case gap is $\\xi = x_{start} - x^*_{end} > 0$. Compute Relu functions:\n",
    "\n",
    "$$Relu(x_{start}^* - x_{start}) = Relu(x_{end}^* - x_{end}) = 0$$\n",
    "$$Relu(x_{start} - x_{start}^*) = x_{start} - x_{start}^*$$\n",
    "$$Relu(x_{end} - x_{end}^*) = x_{end} - x_{end}^*$$\n",
    "\n",
    "And put into Jaccard score formula:\n",
    "\n",
    "$$\n",
    "Jaccard^*\n",
    "= \\frac{l - 0 - (x_{end} - x_{end}^*)}\n",
    "       {l + (x_{start}   - x_{start}^*) + 0}\n",
    "= \\frac{l + x_{end}^* - x_{end}    }\n",
    "       {l + x_{start} - x_{start}^*} \n",
    "= \\frac{l + x_{end}^* - x_{start} + x_{start} - x_{end}}\n",
    "       {l + x_{start} - x_{start}^*}\n",
    "= \\frac{l - \\xi  - (l - 1)}\n",
    "       {l + x_{start} - x_{start}^*}\n",
    "= \\frac{1 - \\xi}\n",
    "       {l + x_{start} - x_{start}^*}\n",
    "$$\n",
    "\n",
    "That's really attractive result, and thats why:\n",
    "- if $x_{end}^*$ is integer, so in corner case we have $\\xi = 1$ and $Jaccard^*=Jaccard=0$. In case of continuos $x_{end}^*$ near to $x_{start}$ we can get some small positive numbers, when $\\xi \\approx 0$, but there is small possibility for this continuos case.\n",
    "- in cases with with gap $\\xi > 1$ we get something better, then $Jaccard=0$, we get .. negative $Jaccard^*$! That's relly smart benavior, cause now we can separate \"bad cases\" from \"so so bad cases\". And more importantly, we get correct derivative for our loss, so we can make a step from \"so so bad case\" to \"bad case\" in SGD process (as describe in sections above, BCE can't do that even in $Jaccard > 0$ cases)."
   ]
  },
  {
   "cell_type": "markdown",
   "metadata": {},
   "source": [
    "Case $x_{start} \\leq x_{end} \\leq x_{start}^* \\leq x_{end}^*$ with $\\xi = x^*_{start} - x_{end} > 0$ exactly the same:\n",
    "<br>\n",
    "\n",
    "$$Relu(x_{start} - x_{start}^*) = Relu(x_{end} - x_{end}^*) = 0$$\n",
    "$$Relu(x_{start}^* - x_{start}) = x_{start}^* - x_{start}$$\n",
    "$$Relu(x_{end}^* - x_{end}) = x_{end}^* - x_{end}$$\n",
    "<br>\n",
    "\n",
    "$$\n",
    "Jaccard\n",
    "= \\frac{l - (x_{start}^* - x_{start}) - 0}\n",
    "       {l + 0 + (x_{end}^* - x_{end})} \n",
    "= \\frac{l - (x_{start}^* - x_{start})}\n",
    "       {l + (x_{end  }^* - x_{end  })} \n",
    "= \\frac{l - (x_{start}^* - x_{end} + x_{end} - x_{start})}\n",
    "       {l + (x_{end  }^* - x_{end  })} \n",
    "= \\frac{l - (\\xi + (l - 1))}\n",
    "       {l + (x_{end  }^* - x_{end  })} \n",
    "= \\frac{1 - \\xi}\n",
    "       {l + (x_{end  }^* - x_{end  })} \n",
    "$$"
   ]
  },
  {
   "cell_type": "markdown",
   "metadata": {},
   "source": [
    "### Case $x_{start}^*$ > $x_{end}^*$.\n",
    "\n",
    "Let proof, that in this case $Jaccard^* \\leq 0$ again, but now in geometric manner. It enough to proove, tnat numerator is negative (cause deniminator is positive in each cases): \n",
    "\n",
    "$$\n",
    "l - Relu(x_{start}^* - x_{start}) - Relu(x_{end} - x_{end}^*) \\leq 0\n",
    "$$\n",
    "or\n",
    "<br>\n",
    "$$\n",
    "Relu(x_{start}^* - x_{start}) + Relu(x_{end} - x_{end}^*) \\geq l\n",
    "$$\n",
    "\n",
    "Let's go. True label split all space into 3 zones:"
   ]
  },
  {
   "cell_type": "code",
   "execution_count": 3,
   "metadata": {},
   "outputs": [
    {
     "data": {
      "image/png": "[encoded data removed]",
      "text/plain": [
       "<PIL.JpegImagePlugin.JpegImageFile image mode=RGB size=361x202 at 0x7F291403C7B8>"
      ]
     },
     "execution_count": 3,
     "metadata": {},
     "output_type": "execute_result"
    }
   ],
   "source": [
    "Image.open('./Case3.jpg')"
   ]
  },
  {
   "cell_type": "markdown",
   "metadata": {},
   "source": [
    "Lets prove this case in three steps:\n",
    "\n",
    "1. If $x_{start}^*$ is in zone 3 (except board), then proof is over, cause of $Relu(x_{start}^* - x_{start}) > l$. Similary if $x_{end}^*$ is in zone 1 (except board), proof is over again cause of $Relu(x_{end}- x_{end}^*) > l$. Now lets say, that $x_{start}^*$ is not in zone 1, and $x_{end}^*$ is not in zone 1.\n",
    "<br><br>\n",
    "2. Case with $x_{start}^*$ in zone 1 imposible, cause it means, that $x_{end}^*$ in zone 1 too cause of $x_{end}^* \\leq x_{start}^*$. Similary case with $x_{end}^*$ in zone 3 imposible too.\n",
    "<br><br>\n",
    "3. Now we have only one case , when $x_{start}^*$ and $x_{end}^*$ are in zone 2. In this case all relu functions is positive and finally we get (using inequality $x_{start}^* \\neq x_{end}^*$):\n",
    "<br><br>\n",
    "$$\n",
    "Relu(x_{start}^* - x_{start}) + Relu(x_{end}   - x_{end}^*) = (x_{start}^* - x_{start}) + (x_{end}   - x_{end}^*) = (x_{start}^* - x_{end}^*) + (x_{end} - x_{start}) \\geq 1 + (l - 1) = l\n",
    "$$\n",
    "\n",
    "(another comment: in continuos case with small possibility $0 < x_{start}^* - x_{end}^* < 1$)"
   ]
  },
  {
   "cell_type": "markdown",
   "metadata": {},
   "source": [
    "### Theoretical Conclusion\n",
    "\n",
    "Proof is over. Finnally we get one formula for all cases:\n",
    "<br>\n",
    "$$\n",
    "Jaccard^*\n",
    "= \\frac{l - Relu(x_{start}^* - x_{start}  ) - Relu(x_{end}   - x_{end}^*)}\n",
    "       {l + Relu(x_{start}   - x_{start}^*) + Relu(x_{end}^* - x_{end})}. \n",
    "$$\n",
    "wich has a lot of advantages:\n",
    "- Absolutely equal competition Jaccard score, when it's possible to compute.\n",
    "- When $Jaccard = 0$, $Jaccard^* <= 0$ and push us into correct area in SGD.\n",
    "- When prediction is incorrect (left boarder prediction bigger then right one) $Jaccard <= 0$ again! So, maybe we finally get good submission even without postprocessing.\n",
    "- Denominator for this formula is always positive, so we can compute it for every sample without some lousy NaN's during training. Moreover denominator $ \\geq l \\geq 1$, so we get computationally robust formula even in theory area, so we haven't add some litle numbers in denimunator in practice."
   ]
  },
  {
   "cell_type": "markdown",
   "metadata": {},
   "source": [
    "## Implementation\n",
    "\n",
    "Now implement JEL with this formula:\n",
    "\n",
    "$$\n",
    "Jaccard^*\n",
    "= \\frac{l - Relu(x_{start}^* - x_{start}  ) - Relu(x_{end}   - x_{end}^*)}\n",
    "       {l + Relu(x_{start}   - x_{start}^*) + Relu(x_{end}^* - x_{end})}. \n",
    "$$\n",
    "\n",
    "**Note**: We concatenate two output vectors with start and end probabilities in one row, so $y\\_true$ and $y\\_pred$ have 2 * MAX_LEN dimensionality."
   ]
  },
  {
   "cell_type": "code",
   "execution_count": 4,
   "metadata": {},
   "outputs": [],
   "source": [
    "import numpy as np\n",
    "import tensorflow as tf\n",
    "import tensorflow.keras.backend as K\n",
    "from tensorflow.keras.layers import Input, Dense, Concatenate, Activation\n",
    "from tensorflow.keras.optimizers import SGD\n",
    "from tensorflow.keras import models\n",
    "tf.compat.v1.disable_eager_execution() # for tf placeholders\n",
    "\n",
    "def jaccard_expectation_loss(y_true, y_pred):\n",
    "    batch_size, max_len = K.shape(y_true)[0], K.shape(y_true)[1] // 2\n",
    "    start_true, end_true = y_true[:, :max_len], y_true[:, max_len:]\n",
    "    start_pred, end_pred = y_pred[:, :max_len], y_pred[:, max_len:]\n",
    "    \n",
    "    # for true labels we can use argmax() function, cause labels don't involve in SGD\n",
    "    x_start = K.cast(K.argmax(start_true, axis=1), dtype=tf.float32)\n",
    "    x_end   = K.cast(K.argmax(end_true  , axis=1), dtype=tf.float32)\n",
    "    l = x_end - x_start + 1\n",
    "    \n",
    "    # some magic for getting indices matrix like this: [[0, 1, 2, 3], [0, 1, 2, 3]] \n",
    "    ind_row = tf.range(0, max_len, dtype=tf.float32)\n",
    "    ones_matrix = tf.ones([batch_size, max_len], dtype=tf.float32)\n",
    "    ind_matrix = ind_row * ones_matrix\n",
    "    \n",
    "    # expectations for x_start^* (x_start_pred) and x_end^* (x_end_pred)\n",
    "    x_start_pred = K.sum(start_pred * ind_matrix, axis=1)\n",
    "    x_end_pred   = K.sum(end_pred   * ind_matrix, axis=1)\n",
    "    \n",
    "    relu11 = K.relu(x_start_pred - x_start)\n",
    "    relu12 = K.relu(x_end   - x_end_pred  )\n",
    "    relu21 = K.relu(x_start - x_start_pred)\n",
    "    relu22 = K.relu(x_end_pred   - x_end  )\n",
    "    \n",
    "    intersection = l - relu11 - relu12\n",
    "    union = l + relu21 + relu22\n",
    "    jel = intersection / union\n",
    "    \n",
    "    return 1 - jel"
   ]
  },
  {
   "cell_type": "markdown",
   "metadata": {},
   "source": [
    "Generate some correct true labels and arbitrary prediction lables:"
   ]
  },
  {
   "cell_type": "code",
   "execution_count": 5,
   "metadata": {},
   "outputs": [],
   "source": [
    "MAX_LEN = 10\n",
    "N_BATCH = 5\n",
    "\n",
    "starts = np.array([np.eye(MAX_LEN)[1]] * N_BATCH).astype(float)\n",
    "ends   = np.array([np.eye(MAX_LEN)[3][:10]] * N_BATCH).astype(float)\n",
    "y_true = np.concatenate([starts, ends], axis=1)\n",
    "\n",
    "y_pred = np.random.rand(N_BATCH, 2 * MAX_LEN)"
   ]
  },
  {
   "cell_type": "code",
   "execution_count": 6,
   "metadata": {},
   "outputs": [
    {
     "data": {
      "text/plain": [
       "((5, 20), (5, 20))"
      ]
     },
     "execution_count": 6,
     "metadata": {},
     "output_type": "execute_result"
    }
   ],
   "source": [
    "y_true.shape, y_pred.shape"
   ]
  },
  {
   "cell_type": "markdown",
   "metadata": {},
   "source": [
    "And apply the formula:"
   ]
  },
  {
   "cell_type": "code",
   "execution_count": 7,
   "metadata": {
    "scrolled": true
   },
   "outputs": [
    {
     "data": {
      "text/plain": [
       "array([1.3333334, 1.1666666, 1.5714285, 0.5      , 3.       ],\n",
       "      dtype=float32)"
      ]
     },
     "execution_count": 7,
     "metadata": {},
     "output_type": "execute_result"
    }
   ],
   "source": [
    "y_pred_inp = tf.compat.v1.placeholder(tf.float32, shape=[None, 2 * MAX_LEN])\n",
    "y_true_inp = tf.compat.v1.placeholder(tf.float32, shape=[None, 2 * MAX_LEN])\n",
    "\n",
    "jel = jaccard_expectation_loss(y_pred_inp, y_true_inp)\n",
    "\n",
    "sess = tf.compat.v1.Session()\n",
    "jel = sess.run(jel, feed_dict={y_pred_inp: y_pred, y_true_inp: y_true})\n",
    "jel"
   ]
  },
  {
   "cell_type": "markdown",
   "metadata": {},
   "source": [
    "It works! Now check correctness."
   ]
  },
  {
   "cell_type": "markdown",
   "metadata": {},
   "source": [
    "## Checking Correctness"
   ]
  },
  {
   "cell_type": "markdown",
   "metadata": {},
   "source": [
    "### Checking Formula\n",
    "\n",
    "Generate some batch of data with some restrictions:\n",
    "- True labels are correct (starts smaller, than ends)\n",
    "- Prediction labels are arbitrary, nut only one-encoding vectors (for being able to compare with original Jaccard score)"
   ]
  },
  {
   "cell_type": "code",
   "execution_count": 8,
   "metadata": {},
   "outputs": [],
   "source": [
    "def get_rand_discrete_output():\n",
    "    output = np.zeros(MAX_LEN).astype(int)\n",
    "    ind = np.random.randint(0, MAX_LEN - 1)\n",
    "    output[ind] = 1\n",
    "    return output\n",
    "\n",
    "def get_discrete_batch(n_batch):\n",
    "    starts_true, ends_true = [], []\n",
    "    starts_pred, ends_pred = [], []\n",
    "\n",
    "    batch_ind = 0\n",
    "    while batch_ind < N_BATCH:\n",
    "        starts_true_, ends_true_ = get_rand_discrete_output(), get_rand_discrete_output()\n",
    "        starts_pred_, ends_pred_ = get_rand_discrete_output(), get_rand_discrete_output()\n",
    "        if starts_true_.argmax() <= ends_true_.argmax():\n",
    "            batch_ind += 1\n",
    "            starts_true += [starts_true_]\n",
    "            ends_true   += [ends_true_  ]\n",
    "            starts_pred += [starts_pred_]\n",
    "            ends_pred   += [ends_pred_  ]\n",
    "    return np.array(starts_true), np.array(ends_true), np.array(starts_pred), np.array(ends_pred)"
   ]
  },
  {
   "cell_type": "code",
   "execution_count": 82,
   "metadata": {},
   "outputs": [],
   "source": [
    "N_BATCH = 1\n",
    "\n",
    "starts_true, ends_true, starts_pred, ends_pred = get_discrete_batch(N_BATCH)\n",
    "y_true = np.concatenate([starts_true, ends_true], axis=1)\n",
    "y_pred = np.concatenate([starts_pred, ends_pred], axis=1)"
   ]
  },
  {
   "cell_type": "markdown",
   "metadata": {},
   "source": [
    "Apply fresh JEL:"
   ]
  },
  {
   "cell_type": "code",
   "execution_count": 83,
   "metadata": {
    "scrolled": true
   },
   "outputs": [
    {
     "data": {
      "text/plain": [
       "1"
      ]
     },
     "execution_count": 83,
     "metadata": {},
     "output_type": "execute_result"
    }
   ],
   "source": [
    "sess = tf.compat.v1.Session()\n",
    "jel_arr = sess.run(\n",
    "    jaccard_expectation_loss(y_pred_inp, y_true_inp),\n",
    "    feed_dict={y_pred_inp: y_pred, y_true_inp: y_true}\n",
    ")\n",
    "len(jel_arr)"
   ]
  },
  {
   "cell_type": "markdown",
   "metadata": {},
   "source": [
    "Now find original Jaccard scores for the same data. Cause we don't have real texts, we just transform vectors to string, and then apply Jaccard score in next manner: \n",
    "    - inp start: [1, 0, 0, 0]\n",
    "    - inp end  : [0, 0, 1, 0]\n",
    "    - out str  : \" 1 2 3\"\n",
    "(operating only 0 and 1 signs would be incorrect cause of set() using in Jaccard score formula)"
   ]
  },
  {
   "cell_type": "code",
   "execution_count": 84,
   "metadata": {},
   "outputs": [],
   "source": [
    "def jaccard(str1, str2):\n",
    "    a = set(str(str1).lower().split()) \n",
    "    b = set(str(str2).lower().split())\n",
    "    c = a.intersection(b)\n",
    "    return float(len(c)) / (len(a) + len(b) - len(c))\n",
    "\n",
    "def get_str_output(start, end):\n",
    "    output = ((start.cumsum() - end[::-1].cumsum()[::-1]) == 0).astype(int)\n",
    "    output = output * np.arange(1, len(start) + 1)\n",
    "    return \" \".join(output[output > 0].astype(str))"
   ]
  },
  {
   "cell_type": "code",
   "execution_count": 85,
   "metadata": {},
   "outputs": [
    {
     "data": {
      "text/plain": [
       "'1 2 3'"
      ]
     },
     "execution_count": 85,
     "metadata": {},
     "output_type": "execute_result"
    }
   ],
   "source": [
    "get_str_output(np.array([1, 0, 0, 0]), np.array([0, 0, 1, 0]))"
   ]
  },
  {
   "cell_type": "markdown",
   "metadata": {},
   "source": [
    "Now we can check the formula. Cause of predictions ar arbitrary, there ar three cases:\n",
    "- [**incorrect prediction**]: $x_{start}^* > x_{end}^*$ . We can check $Jaccard^* \\leq 0$.\n",
    "- [**intersection > 0**]: $x_{start}^* \\leq x_{end}^*$, $[x_{start}^*, x_{end}^*] \\cap [x_{start}^*, x_{end}^*] = \\varnothing$ . Correct prediction, but $Jaccard^* \\leq 0$ (but $Jaccard = 0$)\n",
    "- [**intersection = 0**]: $x_{start}^* \\leq x_{end}^*$, $[x_{start}^*, x_{end}^*] \\cap [x_{start}^*, x_{end}^*] \\neq \\varnothing$ . Everything is correct : $Jaccard^* > 0$ (and $Jaccard > 0$)"
   ]
  },
  {
   "cell_type": "code",
   "execution_count": 86,
   "metadata": {},
   "outputs": [],
   "source": [
    "def checking_formula(eps=0.001):\n",
    "    for batch_ind in range(N_BATCH):\n",
    "        x_start0, x_end0 = starts_true[batch_ind].argmax(), ends_true[batch_ind].argmax()\n",
    "        x_start1, x_end1 = starts_pred[batch_ind].argmax(), ends_pred[batch_ind].argmax()    \n",
    "\n",
    "        str1 = get_str_output(starts_true[batch_ind], ends_true[batch_ind])\n",
    "        if x_start1 <= x_end1:\n",
    "            str2 = get_str_output(starts_pred[batch_ind], ends_pred[batch_ind])\n",
    "        else:\n",
    "            str2 = get_str_output(ends_pred[batch_ind], starts_pred[batch_ind])\n",
    "\n",
    "        out1 = jaccard(str1, str2)\n",
    "        out2 = 1 - jel_arr[batch_ind]\n",
    "\n",
    "        if (x_start1 > x_end1):\n",
    "            case = \"incorrrect pred \"\n",
    "            assert out2 <= 0, (str1, str2, out1, out2)\n",
    "        else:\n",
    "            if (x_start1 > x_end0) or (x_start0 > x_end1):\n",
    "                case = \"intersection = 0\"\n",
    "                assert out2 <= 0, (str1, str2, out1, out2)\n",
    "            else:\n",
    "                case = \"intersection > 0\"\n",
    "                assert abs(out1 - out2) < eps, (str1, str2, out1, out2)\n",
    "\n",
    "        if case == \"incorrrect pred \":\n",
    "            show_str1 = str1.replace(\" \", \"\").ljust(MAX_LEN)\n",
    "            show_str2 = str2.replace(\" \", \"\").ljust(MAX_LEN)\n",
    "            print(f'[{case}]: true: {show_str1}, pred: {show_str2}, out1: {out1:.3f}, out2: {out2:.3f}') "
   ]
  },
  {
   "cell_type": "code",
   "execution_count": 87,
   "metadata": {
    "scrolled": true
   },
   "outputs": [
    {
     "name": "stdout",
     "output_type": "stream",
     "text": [
      "[incorrrect pred ]: true: 345678    , pred: 2345      , out1: 0.429, out2: -0.333\n"
     ]
    }
   ],
   "source": [
    "checking_formula(eps=0.001)"
   ]
  },
  {
   "cell_type": "markdown",
   "metadata": {},
   "source": [
    "It looks good! Assert works even with some comments for continuos cases, when strict proof can go wrong."
   ]
  },
  {
   "cell_type": "markdown",
   "metadata": {},
   "source": [
    "### Checking Being Loss\n",
    "\n",
    "Now check, that our custom loss can be used as Keras loss with some tiny model. It can be wrong if we used some non differentiable functions, or cause of other technical problems. And we also can check decreasing loss during training, that a necessary point, independent of size model."
   ]
  },
  {
   "cell_type": "code",
   "execution_count": 152,
   "metadata": {},
   "outputs": [],
   "source": [
    "def smoothed_categorical_crossentropy(y_true, y_pred, label_smoothing=0.1):\n",
    "    # adjust the targets for sequence bucketing\n",
    "    ll = tf.shape(y_pred)[1]\n",
    "    y_true = y_true[:, :ll]\n",
    "    loss = tf.keras.losses.categorical_crossentropy(y_true, y_pred, label_smoothing=label_smoothing)\n",
    "\n",
    "    return tf.reduce_mean(loss)"
   ]
  },
  {
   "cell_type": "code",
   "execution_count": 153,
   "metadata": {},
   "outputs": [],
   "source": [
    "INIT_VOC_SIZE = 200\n",
    "\n",
    "inds = np.random.randint(0, VOC_SIZE, size=(N_BATCH, 20))\n",
    "inp = tf.keras.utils.to_categorical(inds).sum(1)\n",
    "\n",
    "VOC_SIZE = inds.max() + 1"
   ]
  },
  {
   "cell_type": "code",
   "execution_count": 209,
   "metadata": {},
   "outputs": [],
   "source": [
    "def get_model(lr=0.01, loss_fn=smoothed_categorical_crossentropy):\n",
    "    x = Input((VOC_SIZE,), dtype=tf.int32)\n",
    "\n",
    "    y1 = Dense(MAX_LEN)(x)\n",
    "    y1 = Activation('softmax')(y1)\n",
    "\n",
    "    y2 = Dense(MAX_LEN)(x)\n",
    "    y2 = Activation('softmax')(y2)\n",
    "\n",
    "    y = Concatenate(axis=1)([y1, y2])\n",
    "\n",
    "    model1 = models.Model(inputs=x, outputs=y)\n",
    "    model1.compile(loss=smoothed_categorical_crossentropy, optimizer=SGD(lr))\n",
    "    \n",
    "    model2 = models.Model(inputs=x, outputs=y)\n",
    "    model2.compile(loss=jaccard_expectation_loss, optimizer=SGD(lr))\n",
    "    \n",
    "    return [model1, model2]"
   ]
  },
  {
   "cell_type": "code",
   "execution_count": 156,
   "metadata": {},
   "outputs": [
    {
     "name": "stdout",
     "output_type": "stream",
     "text": [
      "Model: \"model_12\"\n",
      "__________________________________________________________________________________________________\n",
      "Layer (type)                    Output Shape         Param #     Connected to                     \n",
      "==================================================================================================\n",
      "input_13 (InputLayer)           [(None, 159)]        0                                            \n",
      "__________________________________________________________________________________________________\n",
      "dense_24 (Dense)                (None, 10)           1600        input_13[0][0]                   \n",
      "__________________________________________________________________________________________________\n",
      "dense_25 (Dense)                (None, 10)           1600        input_13[0][0]                   \n",
      "__________________________________________________________________________________________________\n",
      "activation_24 (Activation)      (None, 10)           0           dense_24[0][0]                   \n",
      "__________________________________________________________________________________________________\n",
      "activation_25 (Activation)      (None, 10)           0           dense_25[0][0]                   \n",
      "__________________________________________________________________________________________________\n",
      "concatenate_12 (Concatenate)    (None, 20)           0           activation_24[0][0]              \n",
      "                                                                 activation_25[0][0]              \n",
      "==================================================================================================\n",
      "Total params: 3,200\n",
      "Trainable params: 3,200\n",
      "Non-trainable params: 0\n",
      "__________________________________________________________________________________________________\n"
     ]
    }
   ],
   "source": [
    "get_model().summary()"
   ]
  },
  {
   "cell_type": "markdown",
   "metadata": {},
   "source": [
    "Check on some random input data:"
   ]
  },
  {
   "cell_type": "code",
   "execution_count": 157,
   "metadata": {},
   "outputs": [
    {
     "data": {
      "text/plain": [
       "array([0., 0., 0., 1., 0., 0., 0., 0., 0., 0., 0., 0., 0., 0., 0., 0., 0.,\n",
       "       0., 0., 0., 0., 0., 0., 1., 0., 0., 0., 0., 0., 0., 0., 0., 0., 0.,\n",
       "       0., 0., 0., 0., 0., 0., 0., 0., 1., 1., 0., 1., 1., 0., 1., 0., 0.,\n",
       "       0., 0., 0., 0., 0., 1., 0., 0., 0., 0., 0., 0., 0., 0., 0., 0., 0.,\n",
       "       0., 1., 0., 0., 0., 0., 1., 0., 0., 0., 0., 0., 0., 0., 1., 0., 0.,\n",
       "       0., 0., 1., 0., 0., 1., 0., 1., 0., 0., 0., 0., 0., 0., 0., 0., 0.,\n",
       "       0., 0., 0., 0., 0., 0., 0., 0., 0., 0., 0., 0., 0., 0., 0., 0., 1.,\n",
       "       0., 0., 0., 0., 1., 0., 0., 0., 0., 0., 0., 0., 0., 0., 0., 0., 0.,\n",
       "       0., 0., 0., 0., 0., 0., 0., 0., 0., 0., 0., 0., 0., 0., 1., 0., 1.,\n",
       "       1., 0., 0., 0., 0., 1.], dtype=float32)"
      ]
     },
     "execution_count": 157,
     "metadata": {},
     "output_type": "execute_result"
    }
   ],
   "source": [
    "inp[0]"
   ]
  },
  {
   "cell_type": "code",
   "execution_count": 158,
   "metadata": {},
   "outputs": [
    {
     "data": {
      "text/plain": [
       "array([0, 0, 1, 0, 0, 0, 0, 0, 0, 0, 0, 0, 0, 0, 0, 0, 0, 1, 0, 0])"
      ]
     },
     "execution_count": 158,
     "metadata": {},
     "output_type": "execute_result"
    }
   ],
   "source": [
    "y_true[0]"
   ]
  },
  {
   "cell_type": "code",
   "execution_count": 159,
   "metadata": {},
   "outputs": [
    {
     "data": {
      "text/plain": [
       "((1, 159), (1, 20))"
      ]
     },
     "execution_count": 159,
     "metadata": {},
     "output_type": "execute_result"
    }
   ],
   "source": [
    "inp.shape, y_true.shape"
   ]
  },
  {
   "cell_type": "code",
   "execution_count": 160,
   "metadata": {},
   "outputs": [
    {
     "data": {
      "text/plain": [
       "159"
      ]
     },
     "execution_count": 160,
     "metadata": {},
     "output_type": "execute_result"
    }
   ],
   "source": [
    "VOC_SIZE"
   ]
  },
  {
   "cell_type": "code",
   "execution_count": 161,
   "metadata": {},
   "outputs": [
    {
     "data": {
      "text/plain": [
       "array([[0, 0, 0, 0, 1, 0, 0, 0, 0, 0, 0, 1, 0, 0, 0, 0, 0, 0, 0, 0]])"
      ]
     },
     "execution_count": 161,
     "metadata": {},
     "output_type": "execute_result"
    }
   ],
   "source": [
    "y_pred[:MAX_LEN]"
   ]
  },
  {
   "cell_type": "code",
   "execution_count": 227,
   "metadata": {},
   "outputs": [],
   "source": [
    "def show_results(loss_fn=jaccard_expectation_loss, lr=0.01, n_iter=100):\n",
    "    inds = np.arange(MAX_LEN)\n",
    "    models = get_model(lr, loss_fn)\n",
    "\n",
    "    test_ind = 0\n",
    "    for i in range(n_iter):\n",
    "        model = models[0]\n",
    "        model.fit(inp, y_true, verbose=1)\n",
    "        y_test_pred = model.predict(inp[[0]])[0]\n",
    "        y_test_true = y_true[test_ind]\n",
    "        x_start, x_end = np.argmax(y_test_true[:MAX_LEN]), np.argmax(y_test_true[MAX_LEN:])\n",
    "        x_start_pred, x_end_pred = sum(y_test_pred[:MAX_LEN] * inds), sum(y_test_pred[MAX_LEN:] * inds)\n",
    "        print(f'true: [{x_start}, {x_end}], pred: [{x_start_pred:.5f}, {x_end_pred:.5f}]')"
   ]
  },
  {
   "cell_type": "code",
   "execution_count": 228,
   "metadata": {
    "scrolled": true
   },
   "outputs": [
    {
     "name": "stdout",
     "output_type": "stream",
     "text": [
      "Train on 1 samples\n",
      "1/1 [==============================] - 0s 1ms/sample - loss: 6.5092\n",
      "true: [2, 7], pred: [4.96402, 4.54334]\n",
      "Train on 1 samples\n",
      "1/1 [==============================] - 0s 691us/sample - loss: 6.4756\n",
      "true: [2, 7], pred: [4.96067, 4.54727]\n",
      "Train on 1 samples\n",
      "1/1 [==============================] - 0s 1ms/sample - loss: 6.4421\n",
      "true: [2, 7], pred: [4.95728, 4.55126]\n",
      "Train on 1 samples\n",
      "1/1 [==============================] - 0s 976us/sample - loss: 6.4087\n",
      "true: [2, 7], pred: [4.95384, 4.55533]\n",
      "Train on 1 samples\n",
      "1/1 [==============================] - 0s 683us/sample - loss: 6.3754\n",
      "true: [2, 7], pred: [4.95036, 4.55947]\n",
      "Train on 1 samples\n",
      "1/1 [==============================] - 0s 935us/sample - loss: 6.3422\n",
      "true: [2, 7], pred: [4.94682, 4.56368]\n",
      "Train on 1 samples\n",
      "1/1 [==============================] - 0s 804us/sample - loss: 6.3092\n",
      "true: [2, 7], pred: [4.94324, 4.56796]\n",
      "Train on 1 samples\n",
      "1/1 [==============================] - 0s 663us/sample - loss: 6.2762\n",
      "true: [2, 7], pred: [4.93962, 4.57232]\n",
      "Train on 1 samples\n",
      "1/1 [==============================] - 0s 991us/sample - loss: 6.2433\n",
      "true: [2, 7], pred: [4.93594, 4.57674]\n",
      "Train on 1 samples\n",
      "1/1 [==============================] - 0s 801us/sample - loss: 6.2106\n",
      "true: [2, 7], pred: [4.93221, 4.58124]\n",
      "Train on 1 samples\n",
      "1/1 [==============================] - 0s 969us/sample - loss: 6.1779\n",
      "true: [2, 7], pred: [4.92844, 4.58582]\n",
      "Train on 1 samples\n",
      "1/1 [==============================] - 0s 908us/sample - loss: 6.1454\n",
      "true: [2, 7], pred: [4.92461, 4.59046]\n",
      "Train on 1 samples\n",
      "1/1 [==============================] - 0s 865us/sample - loss: 6.1129\n",
      "true: [2, 7], pred: [4.92073, 4.59518]\n",
      "Train on 1 samples\n",
      "1/1 [==============================] - 0s 920us/sample - loss: 6.0806\n",
      "true: [2, 7], pred: [4.91680, 4.59997]\n",
      "Train on 1 samples\n",
      "1/1 [==============================] - 0s 653us/sample - loss: 6.0484\n",
      "true: [2, 7], pred: [4.91282, 4.60483]\n",
      "Train on 1 samples\n",
      "1/1 [==============================] - 0s 1ms/sample - loss: 6.0163\n",
      "true: [2, 7], pred: [4.90878, 4.60977]\n",
      "Train on 1 samples\n",
      "1/1 [==============================] - 0s 1ms/sample - loss: 5.9844\n",
      "true: [2, 7], pred: [4.90469, 4.61477]\n",
      "Train on 1 samples\n",
      "1/1 [==============================] - 0s 677us/sample - loss: 5.9525\n",
      "true: [2, 7], pred: [4.90055, 4.61985]\n",
      "Train on 1 samples\n",
      "1/1 [==============================] - 0s 2ms/sample - loss: 5.9208\n",
      "true: [2, 7], pred: [4.89635, 4.62501]\n",
      "Train on 1 samples\n",
      "1/1 [==============================] - 0s 925us/sample - loss: 5.8891\n",
      "true: [2, 7], pred: [4.89210, 4.63023]\n",
      "Train on 1 samples\n",
      "1/1 [==============================] - 0s 846us/sample - loss: 5.8577\n",
      "true: [2, 7], pred: [4.88779, 4.63553]\n",
      "Train on 1 samples\n",
      "1/1 [==============================] - 0s 2ms/sample - loss: 5.8263\n",
      "true: [2, 7], pred: [4.88342, 4.64089]\n",
      "Train on 1 samples\n",
      "1/1 [==============================] - 0s 663us/sample - loss: 5.7950\n",
      "true: [2, 7], pred: [4.87900, 4.64633]\n",
      "Train on 1 samples\n",
      "1/1 [==============================] - 0s 1ms/sample - loss: 5.7639\n",
      "true: [2, 7], pred: [4.87452, 4.65185]\n",
      "Train on 1 samples\n",
      "1/1 [==============================] - 0s 1ms/sample - loss: 5.7329\n",
      "true: [2, 7], pred: [4.86998, 4.65743]\n",
      "Train on 1 samples\n",
      "1/1 [==============================] - 0s 850us/sample - loss: 5.7021\n",
      "true: [2, 7], pred: [4.86539, 4.66308]\n",
      "Train on 1 samples\n",
      "1/1 [==============================] - 0s 997us/sample - loss: 5.6713\n",
      "true: [2, 7], pred: [4.86073, 4.66880]\n",
      "Train on 1 samples\n",
      "1/1 [==============================] - 0s 716us/sample - loss: 5.6407\n",
      "true: [2, 7], pred: [4.85601, 4.67460]\n",
      "Train on 1 samples\n",
      "1/1 [==============================] - 0s 875us/sample - loss: 5.6102\n",
      "true: [2, 7], pred: [4.85124, 4.68046]\n",
      "Train on 1 samples\n",
      "1/1 [==============================] - 0s 1ms/sample - loss: 5.5799\n",
      "true: [2, 7], pred: [4.84640, 4.68639]\n",
      "Train on 1 samples\n",
      "1/1 [==============================] - 0s 896us/sample - loss: 5.5497\n",
      "true: [2, 7], pred: [4.84151, 4.69239]\n",
      "Train on 1 samples\n",
      "1/1 [==============================] - 0s 856us/sample - loss: 5.5196\n",
      "true: [2, 7], pred: [4.83655, 4.69846]\n",
      "Train on 1 samples\n",
      "1/1 [==============================] - 0s 756us/sample - loss: 5.4897\n",
      "true: [2, 7], pred: [4.83153, 4.70460]\n",
      "Train on 1 samples\n",
      "1/1 [==============================] - 0s 1ms/sample - loss: 5.4599\n",
      "true: [2, 7], pred: [4.82645, 4.71080]\n",
      "Train on 1 samples\n",
      "1/1 [==============================] - 0s 1ms/sample - loss: 5.4302\n",
      "true: [2, 7], pred: [4.82130, 4.71708]\n",
      "Train on 1 samples\n",
      "1/1 [==============================] - 0s 1ms/sample - loss: 5.4007\n",
      "true: [2, 7], pred: [4.81609, 4.72341]\n",
      "Train on 1 samples\n",
      "1/1 [==============================] - 0s 1ms/sample - loss: 5.3713\n",
      "true: [2, 7], pred: [4.81082, 4.72982]\n",
      "Train on 1 samples\n",
      "1/1 [==============================] - 0s 921us/sample - loss: 5.3421\n",
      "true: [2, 7], pred: [4.80549, 4.73628]\n",
      "Train on 1 samples\n",
      "1/1 [==============================] - 0s 1ms/sample - loss: 5.3130\n",
      "true: [2, 7], pred: [4.80009, 4.74281]\n",
      "Train on 1 samples\n",
      "1/1 [==============================] - 0s 811us/sample - loss: 5.2840\n",
      "true: [2, 7], pred: [4.79462, 4.74941]\n",
      "Train on 1 samples\n",
      "1/1 [==============================] - 0s 1ms/sample - loss: 5.2552\n",
      "true: [2, 7], pred: [4.78909, 4.75607]\n",
      "Train on 1 samples\n",
      "1/1 [==============================] - 0s 836us/sample - loss: 5.2266\n",
      "true: [2, 7], pred: [4.78350, 4.76279]\n",
      "Train on 1 samples\n",
      "1/1 [==============================] - 0s 1ms/sample - loss: 5.1981\n",
      "true: [2, 7], pred: [4.77784, 4.76957]\n",
      "Train on 1 samples\n",
      "1/1 [==============================] - 0s 1ms/sample - loss: 5.1697\n",
      "true: [2, 7], pred: [4.77212, 4.77641]\n",
      "Train on 1 samples\n",
      "1/1 [==============================] - 0s 961us/sample - loss: 5.1415\n",
      "true: [2, 7], pred: [4.76633, 4.78331]\n",
      "Train on 1 samples\n",
      "1/1 [==============================] - 0s 976us/sample - loss: 5.1134\n",
      "true: [2, 7], pred: [4.76047, 4.79027]\n",
      "Train on 1 samples\n",
      "1/1 [==============================] - 0s 677us/sample - loss: 5.0855\n",
      "true: [2, 7], pred: [4.75455, 4.79729]\n",
      "Train on 1 samples\n",
      "1/1 [==============================] - 0s 964us/sample - loss: 5.0578\n",
      "true: [2, 7], pred: [4.74856, 4.80436]\n",
      "Train on 1 samples\n",
      "1/1 [==============================] - 0s 1ms/sample - loss: 5.0302\n",
      "true: [2, 7], pred: [4.74250, 4.81149]\n",
      "Train on 1 samples\n",
      "1/1 [==============================] - 0s 844us/sample - loss: 5.0027\n",
      "true: [2, 7], pred: [4.73638, 4.81868]\n",
      "Train on 1 samples\n",
      "1/1 [==============================] - 0s 1ms/sample - loss: 4.9754\n",
      "true: [2, 7], pred: [4.73019, 4.82591]\n",
      "Train on 1 samples\n",
      "1/1 [==============================] - 0s 671us/sample - loss: 4.9483\n",
      "true: [2, 7], pred: [4.72393, 4.83321]\n",
      "Train on 1 samples\n",
      "1/1 [==============================] - 0s 1ms/sample - loss: 4.9213\n",
      "true: [2, 7], pred: [4.71761, 4.84055]\n",
      "Train on 1 samples\n",
      "1/1 [==============================] - 0s 910us/sample - loss: 4.8945\n",
      "true: [2, 7], pred: [4.71122, 4.84794]\n",
      "Train on 1 samples\n",
      "1/1 [==============================] - 0s 794us/sample - loss: 4.8678\n",
      "true: [2, 7], pred: [4.70476, 4.85539]\n",
      "Train on 1 samples\n",
      "1/1 [==============================] - 0s 1ms/sample - loss: 4.8413\n",
      "true: [2, 7], pred: [4.69824, 4.86288]\n",
      "Train on 1 samples\n",
      "1/1 [==============================] - 0s 745us/sample - loss: 4.8150\n",
      "true: [2, 7], pred: [4.69165, 4.87042]\n",
      "Train on 1 samples\n",
      "1/1 [==============================] - 0s 1ms/sample - loss: 4.7888\n",
      "true: [2, 7], pred: [4.68499, 4.87800]\n",
      "Train on 1 samples\n",
      "1/1 [==============================] - 0s 1ms/sample - loss: 4.7628\n",
      "true: [2, 7], pred: [4.67827, 4.88563]\n",
      "Train on 1 samples\n",
      "1/1 [==============================] - 0s 1ms/sample - loss: 4.7370\n",
      "true: [2, 7], pred: [4.67147, 4.89331]\n",
      "Train on 1 samples\n",
      "1/1 [==============================] - 0s 935us/sample - loss: 4.7113\n",
      "true: [2, 7], pred: [4.66462, 4.90103]\n",
      "Train on 1 samples\n",
      "1/1 [==============================] - 0s 738us/sample - loss: 4.6857\n",
      "true: [2, 7], pred: [4.65769, 4.90878]\n",
      "Train on 1 samples\n",
      "1/1 [==============================] - 0s 918us/sample - loss: 4.6604\n",
      "true: [2, 7], pred: [4.65070, 4.91658]\n",
      "Train on 1 samples\n",
      "1/1 [==============================] - 0s 686us/sample - loss: 4.6352\n",
      "true: [2, 7], pred: [4.64365, 4.92442]\n",
      "Train on 1 samples\n"
     ]
    },
    {
     "name": "stdout",
     "output_type": "stream",
     "text": [
      "1/1 [==============================] - 0s 1ms/sample - loss: 4.6102\n",
      "true: [2, 7], pred: [4.63652, 4.93230]\n",
      "Train on 1 samples\n",
      "1/1 [==============================] - 0s 1ms/sample - loss: 4.5853\n",
      "true: [2, 7], pred: [4.62934, 4.94021]\n",
      "Train on 1 samples\n",
      "1/1 [==============================] - 0s 856us/sample - loss: 4.5606\n",
      "true: [2, 7], pred: [4.62209, 4.94816]\n",
      "Train on 1 samples\n",
      "1/1 [==============================] - 0s 1ms/sample - loss: 4.5361\n",
      "true: [2, 7], pred: [4.61477, 4.95614]\n",
      "Train on 1 samples\n",
      "1/1 [==============================] - 0s 736us/sample - loss: 4.5117\n",
      "true: [2, 7], pred: [4.60739, 4.96416]\n",
      "Train on 1 samples\n",
      "1/1 [==============================] - 0s 1ms/sample - loss: 4.4875\n",
      "true: [2, 7], pred: [4.59994, 4.97220]\n",
      "Train on 1 samples\n",
      "1/1 [==============================] - 0s 1ms/sample - loss: 4.4635\n",
      "true: [2, 7], pred: [4.59244, 4.98028]\n",
      "Train on 1 samples\n",
      "1/1 [==============================] - 0s 775us/sample - loss: 4.4396\n",
      "true: [2, 7], pred: [4.58487, 4.98838]\n",
      "Train on 1 samples\n",
      "1/1 [==============================] - 0s 1ms/sample - loss: 4.4160\n",
      "true: [2, 7], pred: [4.57723, 4.99652]\n",
      "Train on 1 samples\n",
      "1/1 [==============================] - 0s 1ms/sample - loss: 4.3924\n",
      "true: [2, 7], pred: [4.56954, 5.00468]\n",
      "Train on 1 samples\n",
      "1/1 [==============================] - 0s 1ms/sample - loss: 4.3691\n",
      "true: [2, 7], pred: [4.56178, 5.01286]\n",
      "Train on 1 samples\n",
      "1/1 [==============================] - 0s 1ms/sample - loss: 4.3459\n",
      "true: [2, 7], pred: [4.55397, 5.02107]\n",
      "Train on 1 samples\n",
      "1/1 [==============================] - 0s 815us/sample - loss: 4.3229\n",
      "true: [2, 7], pred: [4.54609, 5.02929]\n",
      "Train on 1 samples\n",
      "1/1 [==============================] - 0s 1ms/sample - loss: 4.3001\n",
      "true: [2, 7], pred: [4.53815, 5.03755]\n",
      "Train on 1 samples\n",
      "1/1 [==============================] - 0s 861us/sample - loss: 4.2774\n",
      "true: [2, 7], pred: [4.53016, 5.04581]\n",
      "Train on 1 samples\n",
      "1/1 [==============================] - 0s 1ms/sample - loss: 4.2549\n",
      "true: [2, 7], pred: [4.52211, 5.05410]\n",
      "Train on 1 samples\n",
      "1/1 [==============================] - 0s 1ms/sample - loss: 4.2326\n",
      "true: [2, 7], pred: [4.51399, 5.06241]\n",
      "Train on 1 samples\n",
      "1/1 [==============================] - 0s 687us/sample - loss: 4.2105\n",
      "true: [2, 7], pred: [4.50583, 5.07073]\n",
      "Train on 1 samples\n",
      "1/1 [==============================] - 0s 875us/sample - loss: 4.1885\n",
      "true: [2, 7], pred: [4.49761, 5.07906]\n",
      "Train on 1 samples\n",
      "1/1 [==============================] - 0s 909us/sample - loss: 4.1667\n",
      "true: [2, 7], pred: [4.48933, 5.08741]\n",
      "Train on 1 samples\n",
      "1/1 [==============================] - 0s 965us/sample - loss: 4.1451\n",
      "true: [2, 7], pred: [4.48100, 5.09577]\n",
      "Train on 1 samples\n",
      "1/1 [==============================] - 0s 891us/sample - loss: 4.1236\n",
      "true: [2, 7], pred: [4.47261, 5.10414]\n",
      "Train on 1 samples\n",
      "1/1 [==============================] - 0s 886us/sample - loss: 4.1023\n",
      "true: [2, 7], pred: [4.46417, 5.11252]\n",
      "Train on 1 samples\n",
      "1/1 [==============================] - 0s 932us/sample - loss: 4.0812\n",
      "true: [2, 7], pred: [4.45568, 5.12091]\n",
      "Train on 1 samples\n",
      "1/1 [==============================] - 0s 882us/sample - loss: 4.0603\n",
      "true: [2, 7], pred: [4.44715, 5.12930]\n",
      "Train on 1 samples\n",
      "1/1 [==============================] - 0s 1ms/sample - loss: 4.0395\n",
      "true: [2, 7], pred: [4.43856, 5.13770]\n",
      "Train on 1 samples\n",
      "1/1 [==============================] - 0s 2ms/sample - loss: 4.0189\n",
      "true: [2, 7], pred: [4.42992, 5.14610]\n",
      "Train on 1 samples\n",
      "1/1 [==============================] - 0s 1ms/sample - loss: 3.9985\n",
      "true: [2, 7], pred: [4.42124, 5.15451]\n",
      "Train on 1 samples\n",
      "1/1 [==============================] - 0s 1ms/sample - loss: 3.9782\n",
      "true: [2, 7], pred: [4.41251, 5.16291]\n",
      "Train on 1 samples\n",
      "1/1 [==============================] - 0s 684us/sample - loss: 3.9582\n",
      "true: [2, 7], pred: [4.40373, 5.17132]\n",
      "Train on 1 samples\n",
      "1/1 [==============================] - 0s 1ms/sample - loss: 3.9382\n",
      "true: [2, 7], pred: [4.39491, 5.17973]\n",
      "Train on 1 samples\n",
      "1/1 [==============================] - 0s 731us/sample - loss: 3.9185\n",
      "true: [2, 7], pred: [4.38604, 5.18813]\n",
      "Train on 1 samples\n",
      "1/1 [==============================] - 0s 1ms/sample - loss: 3.8989\n",
      "true: [2, 7], pred: [4.37714, 5.19653]\n",
      "Train on 1 samples\n",
      "1/1 [==============================] - 0s 1ms/sample - loss: 3.8795\n",
      "true: [2, 7], pred: [4.36819, 5.20493]\n",
      "Train on 1 samples\n",
      "1/1 [==============================] - 0s 697us/sample - loss: 3.8603\n",
      "true: [2, 7], pred: [4.35920, 5.21332]\n",
      "Train on 1 samples\n",
      "1/1 [==============================] - 0s 966us/sample - loss: 3.8412\n",
      "true: [2, 7], pred: [4.35018, 5.22171]\n"
     ]
    }
   ],
   "source": [
    "show_results(jaccard_expectation_loss, lr=0.001)"
   ]
  },
  {
   "cell_type": "code",
   "execution_count": 205,
   "metadata": {
    "scrolled": true
   },
   "outputs": [
    {
     "name": "stdout",
     "output_type": "stream",
     "text": [
      "Train on 1 samples\n",
      "1/1 [==============================] - 0s 798us/sample - loss: 6.0761\n",
      "true: [2, 7], pred: [3.49616, 4.94651]\n",
      "Train on 1 samples\n",
      "1/1 [==============================] - 0s 936us/sample - loss: 3.3232\n",
      "true: [2, 7], pred: [2.77507, 5.97782]\n",
      "Train on 1 samples\n",
      "1/1 [==============================] - 0s 745us/sample - loss: 2.3050\n",
      "true: [2, 7], pred: [2.52131, 6.37452]\n",
      "Train on 1 samples\n",
      "1/1 [==============================] - 0s 1ms/sample - loss: 2.0677\n",
      "true: [2, 7], pred: [2.40177, 6.54000]\n",
      "Train on 1 samples\n",
      "1/1 [==============================] - 0s 733us/sample - loss: 1.9839\n",
      "true: [2, 7], pred: [2.33299, 6.62881]\n",
      "Train on 1 samples\n",
      "1/1 [==============================] - 0s 2ms/sample - loss: 1.9441\n",
      "true: [2, 7], pred: [2.28855, 6.68383]\n",
      "Train on 1 samples\n",
      "1/1 [==============================] - 0s 917us/sample - loss: 1.9221\n",
      "true: [2, 7], pred: [2.25762, 6.72107]\n",
      "Train on 1 samples\n",
      "1/1 [==============================] - 0s 2ms/sample - loss: 1.9088\n",
      "true: [2, 7], pred: [2.23497, 6.74782]\n",
      "Train on 1 samples\n",
      "1/1 [==============================] - 0s 957us/sample - loss: 1.9001\n",
      "true: [2, 7], pred: [2.21775, 6.76787]\n",
      "Train on 1 samples\n",
      "1/1 [==============================] - 0s 826us/sample - loss: 1.8943\n",
      "true: [2, 7], pred: [2.20428, 6.78338]\n",
      "Train on 1 samples\n",
      "1/1 [==============================] - 0s 1ms/sample - loss: 1.8903\n",
      "true: [2, 7], pred: [2.19351, 6.79568]\n",
      "Train on 1 samples\n",
      "1/1 [==============================] - 0s 988us/sample - loss: 1.8874\n",
      "true: [2, 7], pred: [2.18475, 6.80562]\n",
      "Train on 1 samples\n",
      "1/1 [==============================] - 0s 829us/sample - loss: 1.8852\n",
      "true: [2, 7], pred: [2.17752, 6.81378]\n",
      "Train on 1 samples\n",
      "1/1 [==============================] - 0s 1ms/sample - loss: 1.8837\n",
      "true: [2, 7], pred: [2.17147, 6.82057]\n",
      "Train on 1 samples\n",
      "1/1 [==============================] - 0s 1ms/sample - loss: 1.8825\n",
      "true: [2, 7], pred: [2.16638, 6.82628]\n",
      "Train on 1 samples\n",
      "1/1 [==============================] - 0s 889us/sample - loss: 1.8816\n",
      "true: [2, 7], pred: [2.16205, 6.83112]\n",
      "Train on 1 samples\n",
      "1/1 [==============================] - 0s 825us/sample - loss: 1.8809\n",
      "true: [2, 7], pred: [2.15834, 6.83526]\n",
      "Train on 1 samples\n",
      "1/1 [==============================] - 0s 1ms/sample - loss: 1.8804\n",
      "true: [2, 7], pred: [2.15514, 6.83882]\n",
      "Train on 1 samples\n",
      "1/1 [==============================] - 0s 1ms/sample - loss: 1.8799\n",
      "true: [2, 7], pred: [2.15237, 6.84190]\n",
      "Train on 1 samples\n",
      "1/1 [==============================] - 0s 878us/sample - loss: 1.8796\n",
      "true: [2, 7], pred: [2.14997, 6.84458]\n"
     ]
    }
   ],
   "source": [
    "show_results(smoothed_categorical_crossentropy, lr=0.1)"
   ]
  },
  {
   "cell_type": "code",
   "execution_count": null,
   "metadata": {},
   "outputs": [],
   "source": [
    "model.fit(x, y_true, epochs=2000, verbose=1)"
   ]
  },
  {
   "cell_type": "code",
   "execution_count": 98,
   "metadata": {},
   "outputs": [
    {
     "data": {
      "text/plain": [
       "array([[ 0.18146323, -0.8405605 ,  0.5620082 , -0.10563993, -0.19898231,\n",
       "        -0.43483075, -0.01636792, -0.18793613,  0.17881906,  0.35346952,\n",
       "         0.6353555 , -0.41135448,  0.5678985 , -0.10310794, -0.6630851 ,\n",
       "         0.3320193 ,  0.16254683,  0.39623684, -0.32077152,  0.04116598],\n",
       "       [ 0.4071352 , -0.20997676, -0.2923761 ,  0.8232709 , -0.00190281,\n",
       "        -0.7976111 , -0.29006058, -0.21866107,  0.52923787,  0.7309581 ,\n",
       "         0.00773066, -0.053238  ,  0.39377034, -0.5272001 ,  0.45411444,\n",
       "         0.37246466,  0.2771541 , -0.21968889,  0.04935703,  0.40083432],\n",
       "       [ 0.6579855 ,  0.48571938, -0.36980176, -0.14157563,  0.70516586,\n",
       "        -0.2512255 ,  0.71752596,  0.04256302,  0.20992506, -0.5581141 ,\n",
       "         0.5999609 ,  0.1037205 ,  0.10467454, -0.75329053,  0.41576123,\n",
       "        -0.28564098, -0.3175853 , -0.04740323,  0.20410827,  0.49345034],\n",
       "       [ 0.19343966, -0.23307209, -0.02969283,  0.0718475 , -0.15977344,\n",
       "         0.06988633,  0.8652878 , -0.10242667, -0.5513126 , -0.02881364,\n",
       "         0.8596518 ,  0.11801392,  0.24826609, -0.24095578,  0.17982148,\n",
       "        -0.13072938,  0.6869163 ,  0.3139422 , -0.29696104,  0.43738294],\n",
       "       [ 0.47056997,  0.23990351,  0.3086298 , -0.824996  , -0.07931121,\n",
       "         0.05019731,  0.55790555, -0.43129617,  0.07060218,  0.4575239 ,\n",
       "        -0.3712645 ,  0.05758984,  0.17703874, -0.10240083, -0.44530374,\n",
       "        -0.08081821,  0.03766433,  0.10250817,  0.3543772 ,  0.6491415 ],\n",
       "       [-0.6808256 , -0.30792108,  0.0577862 ,  0.14077109, -0.6365701 ,\n",
       "        -0.78912234,  0.24204925,  0.75860286, -0.07158805,  0.2929524 ,\n",
       "         0.30594945, -0.493391  ,  0.5012461 , -0.24047564,  0.4386856 ,\n",
       "        -0.01250856,  0.6509066 , -0.11924944,  0.7414938 , -0.60009843],\n",
       "       [ 0.5378128 ,  0.61067885,  0.533919  ,  0.20690575, -0.3939964 ,\n",
       "         0.23089965,  0.07587722,  0.29254195, -0.12719285,  0.14967518,\n",
       "         0.08404806, -0.5354606 , -0.14337517,  0.7869981 ,  0.6406018 ,\n",
       "        -0.6798842 ,  0.1743079 ,  0.47545484, -0.2567511 ,  0.17635065],\n",
       "       [-0.3841887 , -0.64291775,  0.5243522 , -0.19144365,  0.15301955,\n",
       "        -0.07293759, -0.02267684, -0.40078008,  0.04816605,  0.40604734,\n",
       "        -0.1769217 , -0.06131558,  0.37638092,  0.3097362 , -0.9223442 ,\n",
       "         0.3509216 ,  0.6749153 ,  0.21546832, -0.33721557,  0.51432174],\n",
       "       [ 0.25900662, -0.51325434,  0.32706156, -0.24291626, -0.16960678,\n",
       "         0.22203164,  0.5937662 ,  0.05096921, -0.36165658, -0.20838946,\n",
       "         0.44022685,  0.4424016 ,  0.21508417,  0.20658816,  0.2715664 ,\n",
       "         0.11973348, -0.12994833,  1.2756236 , -1.062374  ,  0.13956523],\n",
       "       [ 0.89144856, -0.7146451 , -0.3448887 , -0.1363658 ,  0.17919588,\n",
       "         0.51193094,  0.2729599 , -0.16968504, -0.22175309, -0.21664847,\n",
       "         0.4023826 , -0.2023583 , -1.0809029 ,  0.0400627 ,  0.9658711 ,\n",
       "         0.3183943 ,  0.3911153 ,  0.30522346,  0.08070214,  0.14776072]],\n",
       "      dtype=float32)"
      ]
     },
     "execution_count": 98,
     "metadata": {},
     "output_type": "execute_result"
    }
   ],
   "source": [
    "model.predict(x)"
   ]
  },
  {
   "cell_type": "markdown",
   "metadata": {},
   "source": [
    "Loss really decrease!"
   ]
  },
  {
   "cell_type": "markdown",
   "metadata": {},
   "source": [
    "# Conclusion\n",
    "\n",
    "This notebook introduce two new loss function: Weighted BCE (without implementation) and Jaccard Expectation Loss (with implementation). It needs for eliminate some BCE defects, decribed above, and just for using competition metric as a loss. That's not so easy, cause the metric is sophisticated enough and we need to programm it in differentiable manner. It was hard in sone degree, but we do it! (advantages describing in **Theoretical Conclusion** part).\n",
    "<br><br>\n",
    "Hope, this metric will help you to achive good score according to your aim. I don't use it yet, but going to do that this night. Please, let me know if this metric really can help you to get better score, than you already have (or don't helps whatsoever :) ). Good luck!"
   ]
  }
 ],
 "metadata": {
  "kernelspec": {
   "display_name": "Python 3",
   "language": "python",
   "name": "python3"
  },
  "language_info": {
   "codemirror_mode": {
    "name": "ipython",
    "version": 3
   },
   "file_extension": ".py",
   "mimetype": "text/x-python",
   "name": "python",
   "nbconvert_exporter": "python",
   "pygments_lexer": "ipython3",
   "version": "3.6.10"
  }
 },
 "nbformat": 4,
 "nbformat_minor": 4
}
